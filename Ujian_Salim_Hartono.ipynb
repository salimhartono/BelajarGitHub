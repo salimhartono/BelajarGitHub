{
  "nbformat": 4,
  "nbformat_minor": 0,
  "metadata": {
    "colab": {
      "provenance": [],
      "authorship_tag": "ABX9TyOO1g7Lf9g6GCQvP6kHRYs6",
      "include_colab_link": true
    },
    "kernelspec": {
      "name": "python3",
      "display_name": "Python 3"
    },
    "language_info": {
      "name": "python"
    }
  },
  "cells": [
    {
      "cell_type": "markdown",
      "metadata": {
        "id": "view-in-github",
        "colab_type": "text"
      },
      "source": [
        "<a href=\"https://colab.research.google.com/github/salimhartono/BelajarGitHub/blob/master/Ujian_Salim_Hartono.ipynb\" target=\"_parent\"><img src=\"https://colab.research.google.com/assets/colab-badge.svg\" alt=\"Open In Colab\"/></a>"
      ]
    },
    {
      "cell_type": "code",
      "execution_count": null,
      "metadata": {
        "colab": {
          "base_uri": "https://localhost:8080/"
        },
        "id": "1HjXcx7kOj6N",
        "outputId": "44124902-9d7f-4ed9-d746-5452404cc994"
      },
      "outputs": [
        {
          "output_type": "stream",
          "name": "stdout",
          "text": [
            "Connecting to Broker  broker.hivemq.com\n",
            "log: Sending CONNECT (u0, p0, wr0, wq0, wf0, c1, k60) client_id=b''\n",
            "log: Sending PUBLISH (d0, q0, r0, m1), 'b'sensor/light'', ... (3 bytes)\n",
            "log: Received CONNACK (0, 0)\n",
            "Connected\n",
            "log: Sending DISCONNECT\n",
            "Disconnected result code = 0\n"
          ]
        },
        {
          "output_type": "execute_result",
          "data": {
            "text/plain": [
              "0"
            ]
          },
          "metadata": {},
          "execution_count": 13
        }
      ],
      "source": [
        "import paho.mqtt.client as mqtt\n",
        "import time\n",
        "def on_log(client, userdata, level, buf):\n",
        "      print(\"log: \"+buf)\n",
        "\n",
        "def on_connect(client, userdata, flags, rc):\n",
        "      if rc==0:\n",
        "          print(\"Connected\")\n",
        "      else:\n",
        "          print(\"Bad connection return code = \"+str(rc))\n",
        "\n",
        "def on_disconnect(clent, userdata, flags, rc=0):\n",
        "      print(\"Disconnected result code = \"+str(rc))\n",
        "\n",
        "client = mqtt.Client()\n",
        "broker = \"broker.hivemq.com\"\n",
        "\n",
        "client.on_connect = on_connect\n",
        "client.on_disconnect = on_disconnect\n",
        "client.on_log = on_log\n",
        "\n",
        "print(\"Connecting to Broker \", broker)\n",
        "\n",
        "client.connect(broker)\n",
        "client.loop_start()\n",
        "client.publish(\"sensor/light\",\"80%\") #<<<-----   Publish with default qos 0\n",
        "time.sleep(5)\n",
        "client.loop_stop()\n",
        "client.disconnect()"
      ]
    },
    {
      "cell_type": "code",
      "source": [
        "import paho.mqtt.client as mqtt\n",
        "import random\n",
        "import time\n",
        "\n",
        "broker = \"broker.hivemq.com\"\n",
        "base_topic = \"sensor\"\n",
        "topics = [\"light\", \"temperature\", \"humidity\"]\n",
        "\n",
        "def on_connect(client, userdata, flags, rc):\n",
        "    if rc == 0:\n",
        "        print(\"Connected to broker\")\n",
        "    else:\n",
        "        print(\"Connection failed\")\n",
        "\n",
        "client = mqtt.Client()\n",
        "client.on_connect = on_connect\n",
        "\n",
        "print(\"Connecting to broker...\")\n",
        "client.connect(broker)\n",
        "\n",
        "client.loop_start()\n",
        "\n",
        "while True:\n",
        "    topic = random.choice(topics)  # Pilih topik secara acak dari daftar topik\n",
        "    data = random.randint(1, 100)   # Membuat data random antara 1 sampai 100\n",
        "    payload = str(data)\n",
        "\n",
        "    client.publish(f\"{base_topic}/{topic}\", payload)  # Mengirimkan data ke topik MQTT dengan payload dari data randomnya\n",
        "    print(f\"Published: {payload} to Topic: {base_topic}/{topic} at {time.strftime('%Y-%m-%d %H:%M:%S')}\")\n",
        "\n",
        "    # Menunggu waktu acak antara 1 hingga 5 detik sebelum mengirimkan pesan berikutnya\n",
        "    time.sleep(random.uniform(1, 5))\n",
        "\n",
        "client.loop_stop()\n",
        "client.disconnect()\n"
      ],
      "metadata": {
        "colab": {
          "base_uri": "https://localhost:8080/",
          "height": 644
        },
        "id": "Qy_dxcVNXMZE",
        "outputId": "0bec7675-a6dc-4abe-8925-5cde80c9f04f"
      },
      "execution_count": null,
      "outputs": [
        {
          "output_type": "stream",
          "name": "stdout",
          "text": [
            "Connecting to broker...\n",
            "Published: 11 to Topic: sensor/humidity at 2023-12-24 15:22:50\n",
            "Connected to broker\n",
            "Published: 98 to Topic: sensor/humidity at 2023-12-24 15:22:51\n",
            "Published: 75 to Topic: sensor/temperature at 2023-12-24 15:22:53\n",
            "Published: 45 to Topic: sensor/light at 2023-12-24 15:22:57\n",
            "Published: 49 to Topic: sensor/temperature at 2023-12-24 15:22:59\n",
            "Published: 16 to Topic: sensor/humidity at 2023-12-24 15:23:03\n",
            "Published: 28 to Topic: sensor/humidity at 2023-12-24 15:23:05\n",
            "Published: 7 to Topic: sensor/humidity at 2023-12-24 15:23:09\n",
            "Published: 50 to Topic: sensor/temperature at 2023-12-24 15:23:11\n",
            "Published: 87 to Topic: sensor/humidity at 2023-12-24 15:23:15\n",
            "Published: 70 to Topic: sensor/temperature at 2023-12-24 15:23:19\n",
            "Published: 19 to Topic: sensor/humidity at 2023-12-24 15:23:23\n",
            "Published: 18 to Topic: sensor/humidity at 2023-12-24 15:23:27\n",
            "Published: 38 to Topic: sensor/humidity at 2023-12-24 15:23:30\n",
            "Published: 78 to Topic: sensor/humidity at 2023-12-24 15:23:32\n",
            "Published: 42 to Topic: sensor/light at 2023-12-24 15:23:36\n",
            "Published: 81 to Topic: sensor/temperature at 2023-12-24 15:23:37\n",
            "Published: 3 to Topic: sensor/humidity at 2023-12-24 15:23:38\n",
            "Published: 24 to Topic: sensor/temperature at 2023-12-24 15:23:42\n",
            "Published: 24 to Topic: sensor/light at 2023-12-24 15:23:47\n",
            "Published: 47 to Topic: sensor/light at 2023-12-24 15:23:49\n"
          ]
        },
        {
          "output_type": "error",
          "ename": "KeyboardInterrupt",
          "evalue": "ignored",
          "traceback": [
            "\u001b[0;31m---------------------------------------------------------------------------\u001b[0m",
            "\u001b[0;31mKeyboardInterrupt\u001b[0m                         Traceback (most recent call last)",
            "\u001b[0;32m<ipython-input-12-0dc32e9179f2>\u001b[0m in \u001b[0;36m<cell line: 23>\u001b[0;34m()\u001b[0m\n\u001b[1;32m     30\u001b[0m \u001b[0;34m\u001b[0m\u001b[0m\n\u001b[1;32m     31\u001b[0m     \u001b[0;31m# Menunggu waktu acak antara 1 hingga 5 detik sebelum mengirimkan pesan berikutnya\u001b[0m\u001b[0;34m\u001b[0m\u001b[0;34m\u001b[0m\u001b[0m\n\u001b[0;32m---> 32\u001b[0;31m     \u001b[0mtime\u001b[0m\u001b[0;34m.\u001b[0m\u001b[0msleep\u001b[0m\u001b[0;34m(\u001b[0m\u001b[0mrandom\u001b[0m\u001b[0;34m.\u001b[0m\u001b[0muniform\u001b[0m\u001b[0;34m(\u001b[0m\u001b[0;36m1\u001b[0m\u001b[0;34m,\u001b[0m \u001b[0;36m5\u001b[0m\u001b[0;34m)\u001b[0m\u001b[0;34m)\u001b[0m\u001b[0;34m\u001b[0m\u001b[0;34m\u001b[0m\u001b[0m\n\u001b[0m\u001b[1;32m     33\u001b[0m \u001b[0;34m\u001b[0m\u001b[0m\n\u001b[1;32m     34\u001b[0m \u001b[0mclient\u001b[0m\u001b[0;34m.\u001b[0m\u001b[0mloop_stop\u001b[0m\u001b[0;34m(\u001b[0m\u001b[0;34m)\u001b[0m\u001b[0;34m\u001b[0m\u001b[0;34m\u001b[0m\u001b[0m\n",
            "\u001b[0;31mKeyboardInterrupt\u001b[0m: "
          ]
        }
      ]
    }
  ]
}